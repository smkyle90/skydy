{
 "cells": [
  {
   "cell_type": "code",
   "execution_count": 3,
   "id": "c41545be",
   "metadata": {},
   "outputs": [],
   "source": [
    "from skydy.connectors import DOF, Connection, Joint\n",
    "from skydy.multibody import MultiBody\n",
    "from skydy.rigidbody import (\n",
    "    Body,\n",
    "    BodyCoordinate,\n",
    "    BodyForce,\n",
    "    BodyTorque,\n",
    "    Ground,\n",
    "    GroundCoordinate,\n",
    ")"
   ]
  },
  {
   "cell_type": "code",
   "execution_count": 4,
   "id": "5e60a30e",
   "metadata": {},
   "outputs": [],
   "source": [
    "l_pen = 2\n",
    "w_pen = 0\n",
    "h_pen = 0\n",
    "\n",
    "pen_name = \"1\"\n",
    "\n",
    "# Define the body\n",
    "b_pen = Body(pen_name)\n",
    "\n",
    "# Instantiate the pen's dimensions\n",
    "b_pen.dims.assign_values([l_pen, w_pen, h_pen])\n",
    "\n",
    "# Add torque to pen about the pen's y-coordinaate.\n",
    "T1 = BodyTorque(name=\"1\", y_dir=True)\n",
    "\n",
    "# Torque is applied at the COM\n",
    "torque_loc = BodyCoordinate(\"PF1\", 0, 0, 0)\n",
    "\n",
    "# Add the Torque at the location\n",
    "b_pen.add_torque(T1, torque_loc)\n",
    "\n",
    "# Instantiate the ground\n",
    "b_gnd = Ground()\n",
    "p_gnd = GroundCoordinate()\n",
    "\n",
    "# Location of pen wrt ground\n",
    "p_pen = BodyCoordinate(\"G1/O\", l_pen / 2, 0, 0)\n",
    "\n",
    "# Degrees of freedom\n",
    "pen_dofs = [DOF(4)]\n",
    "\n",
    "# Ground to pen joint\n",
    "j1 = Joint(p_gnd, p_pen, pen_dofs, name=p_gnd.name)\n",
    "\n",
    "# The connection of the bodies through the joint\n",
    "cnx_pen = Connection(b_gnd, j1, b_pen)\n",
    "\n",
    "# The multibody object\n",
    "oned_pen = MultiBody([cnx_pen], \"pen\")"
   ]
  },
  {
   "cell_type": "code",
   "execution_count": 8,
   "id": "bad48577",
   "metadata": {},
   "outputs": [
    {
     "data": {
      "text/plain": [
       "{-3.13209195267317*sqrt(-sin(theta^1_y(t))): 1,\n",
       " 3.13209195267317*sqrt(-sin(theta^1_y(t))): 1}"
      ]
     },
     "execution_count": 8,
     "metadata": {},
     "output_type": "execute_result"
    }
   ],
   "source": [
    "poles = oned_pen.poles(True)\n",
    "poles"
   ]
  },
  {
   "cell_type": "code",
   "execution_count": 20,
   "id": "425837ce",
   "metadata": {},
   "outputs": [
    {
     "data": {
      "text/latex": [
       "$\\displaystyle \\left[\\begin{matrix}- 3.13209195267317 \\sqrt{- \\sin{\\left(\\theta^{1}_{y}{\\left(t \\right)} \\right)}}\\\\3.13209195267317 \\sqrt{- \\sin{\\left(\\theta^{1}_{y}{\\left(t \\right)} \\right)}}\\end{matrix}\\right]$"
      ],
      "text/plain": [
       "Matrix([\n",
       "[-3.13209195267317*sqrt(-sin(theta^1_y(t)))],\n",
       "[ 3.13209195267317*sqrt(-sin(theta^1_y(t)))]])"
      ]
     },
     "execution_count": 20,
     "metadata": {},
     "output_type": "execute_result"
    }
   ],
   "source": [
    "import sympy as sym\n",
    "sym.Matrix(list(poles.keys()))"
   ]
  },
  {
   "cell_type": "code",
   "execution_count": 21,
   "id": "c002e8e2",
   "metadata": {},
   "outputs": [],
   "source": [
    "c_eum, f_eum = oned_pen.get_equilibria()"
   ]
  },
  {
   "cell_type": "code",
   "execution_count": 23,
   "id": "6a8c8578",
   "metadata": {},
   "outputs": [
    {
     "data": {
      "text/plain": [
       "True"
      ]
     },
     "execution_count": 23,
     "metadata": {},
     "output_type": "execute_result"
    }
   ],
   "source": [
    "oned_pen.controllable()"
   ]
  },
  {
   "cell_type": "code",
   "execution_count": 24,
   "id": "b8e44679",
   "metadata": {},
   "outputs": [
    {
     "data": {
      "text/plain": [
       "[[{theta^1_y(t): pi/2}, True], [{theta^1_y(t): 3*pi/2}, False]]"
      ]
     },
     "execution_count": 24,
     "metadata": {},
     "output_type": "execute_result"
    }
   ],
   "source": [
    "oned_pen.is_stable()"
   ]
  }
 ],
 "metadata": {
  "kernelspec": {
   "display_name": "Python 3",
   "language": "python",
   "name": "python3"
  },
  "language_info": {
   "codemirror_mode": {
    "name": "ipython",
    "version": 3
   },
   "file_extension": ".py",
   "mimetype": "text/x-python",
   "name": "python",
   "nbconvert_exporter": "python",
   "pygments_lexer": "ipython3",
   "version": "3.9.5"
  }
 },
 "nbformat": 4,
 "nbformat_minor": 5
}
