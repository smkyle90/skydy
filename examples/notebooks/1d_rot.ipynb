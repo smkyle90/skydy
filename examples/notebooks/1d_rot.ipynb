{
 "cells": [
  {
   "cell_type": "markdown",
   "id": "53f60ad1",
   "metadata": {},
   "source": [
    "# One-Dimension Rotation\n",
    "\n",
    "This is an example usage of the skydy package.\n",
    "\n",
    "The base case is an object that can rotate about one axis.\n",
    "\n",
    "It has one input torque, around the axis of rotation."
   ]
  },
  {
   "cell_type": "code",
   "execution_count": 1,
   "id": "e236849e",
   "metadata": {},
   "outputs": [],
   "source": [
    "import skydy\n",
    "from skydy.connectors import DOF, Connection, Joint\n",
    "from skydy.multibody import MultiBody\n",
    "from skydy.rigidbody import (\n",
    "    Body,\n",
    "    BodyCoordinate,\n",
    "    BodyForce,\n",
    "    BodyTorque,\n",
    "    Ground,\n",
    "    GroundCoordinate,\n",
    ")\n",
    "import matplotlib.pyplot as plt\n",
    "import pprint\n"
   ]
  },
  {
   "cell_type": "markdown",
   "id": "12404cab",
   "metadata": {},
   "source": [
    "## Define the rotating Body\n",
    "\n",
    "Name and create the body"
   ]
  },
  {
   "cell_type": "code",
   "execution_count": 2,
   "id": "9198d77b",
   "metadata": {},
   "outputs": [],
   "source": [
    "# Give the car a name\n",
    "rot_name = \"1\"\n",
    "\n",
    "# Define the body\n",
    "b_rot = Body(rot_name)\n"
   ]
  },
  {
   "cell_type": "markdown",
   "id": "71b5c930",
   "metadata": {},
   "source": [
    "Give the Body some dimensions."
   ]
  },
  {
   "cell_type": "code",
   "execution_count": 3,
   "id": "ad724f86",
   "metadata": {},
   "outputs": [],
   "source": [
    "l_rot = 2\n",
    "w_rot = 2\n",
    "h_rot = 1\n",
    "\n",
    "# Instantiate the car's dimensions\n",
    "b_rot.dims.assign_values([l_rot, w_rot, h_rot])"
   ]
  },
  {
   "cell_type": "code",
   "execution_count": 4,
   "id": "a26a4e2c",
   "metadata": {},
   "outputs": [
    {
     "data": {
      "text/latex": [
       "$\\displaystyle \\left[\\begin{matrix}\\operatorname{x^{1}_{G}}{\\left(t \\right)}\\\\\\operatorname{y^{1}_{G}}{\\left(t \\right)}\\\\\\operatorname{z^{1}_{G}}{\\left(t \\right)}\\\\\\theta^{1}_{x}{\\left(t \\right)}\\\\\\theta^{1}_{y}{\\left(t \\right)}\\\\\\theta^{1}_{z}{\\left(t \\right)}\\end{matrix}\\right]$"
      ],
      "text/plain": [
       "Matrix([\n",
       "[    x^1_G(t)],\n",
       "[    y^1_G(t)],\n",
       "[    z^1_G(t)],\n",
       "[theta^1_x(t)],\n",
       "[theta^1_y(t)],\n",
       "[theta^1_z(t)]])"
      ]
     },
     "execution_count": 4,
     "metadata": {},
     "output_type": "execute_result"
    }
   ],
   "source": [
    "# As it stands, this is simply a rigid body with 6 degrees of freedom and some geometry.\n",
    "b_rot.positions()"
   ]
  },
  {
   "cell_type": "code",
   "execution_count": 5,
   "id": "a13eec9f",
   "metadata": {},
   "outputs": [
    {
     "data": {
      "text/plain": [
       "{l^1_x: 2, l^1_y: 2, l^1_z: 1}"
      ]
     },
     "execution_count": 5,
     "metadata": {},
     "output_type": "execute_result"
    }
   ],
   "source": [
    "# Check the dimensions of the body.\n",
    "b_rot.dims.as_dict()"
   ]
  },
  {
   "cell_type": "markdown",
   "id": "3a898aec",
   "metadata": {},
   "source": [
    "## Mass and Inertia Matrices\n",
    "\n",
    "A Body comes equipped with a Mass and Inertia matrices. These are purely symbolic, but necessary to calculate the energy of the object. We do not physically calculate the moments of inertia, however, since we can define the Body in anyway, we align the body fixed axis with the principal inertial axes."
   ]
  },
  {
   "cell_type": "code",
   "execution_count": 6,
   "id": "dcace0fd",
   "metadata": {},
   "outputs": [
    {
     "data": {
      "text/latex": [
       "$\\displaystyle \\left[\\begin{matrix}m_{1} & 0 & 0\\\\0 & m_{1} & 0\\\\0 & 0 & m_{1}\\end{matrix}\\right]$"
      ],
      "text/plain": [
       "Matrix([\n",
       "[m_1,   0,   0],\n",
       "[  0, m_1,   0],\n",
       "[  0,   0, m_1]])"
      ]
     },
     "execution_count": 6,
     "metadata": {},
     "output_type": "execute_result"
    }
   ],
   "source": [
    "b_rot.mass_matrix.as_mat()"
   ]
  },
  {
   "cell_type": "code",
   "execution_count": 7,
   "id": "a44e3238",
   "metadata": {},
   "outputs": [
    {
     "data": {
      "text/latex": [
       "$\\displaystyle \\left[\\begin{matrix}I^{1}_{xx} & I^{1}_{yx} & I^{1}_{zx}\\\\I^{1}_{xy} & I^{1}_{yy} & I^{1}_{zy}\\\\I^{1}_{xz} & I^{1}_{yz} & I^{1}_{zz}\\end{matrix}\\right]$"
      ],
      "text/plain": [
       "Matrix([\n",
       "[I^1_xx, I^1_yx, I^1_zx],\n",
       "[I^1_xy, I^1_yy, I^1_zy],\n",
       "[I^1_xz, I^1_yz, I^1_zz]])"
      ]
     },
     "execution_count": 7,
     "metadata": {},
     "output_type": "execute_result"
    }
   ],
   "source": [
    "b_rot.inertia_matrix.as_mat()"
   ]
  },
  {
   "cell_type": "markdown",
   "id": "4016e731",
   "metadata": {},
   "source": [
    "## External Force\n",
    "\n",
    "Add a force at the Centre of Mass of the car."
   ]
  },
  {
   "cell_type": "code",
   "execution_count": 8,
   "id": "bc464c66",
   "metadata": {},
   "outputs": [],
   "source": [
    "# We can now add a torque to the body.\n",
    "T1 = BodyTorque(name=\"1\", z_dir=True)\n",
    "\n",
    "# Force is applied at the COM\n",
    "torque_loc = BodyCoordinate(\"PT1\", 0, 0, 0)\n",
    "\n",
    "# Add the torque at the location\n",
    "b_rot.add_torque(T1, torque_loc)"
   ]
  },
  {
   "cell_type": "markdown",
   "id": "08e0dc80",
   "metadata": {},
   "source": [
    "## Define the Ground Body and Coordinate.\n",
    "\n",
    "This acts as the reference point for our body, i.e., allows us to propagate relative positions into absolute."
   ]
  },
  {
   "cell_type": "code",
   "execution_count": 9,
   "id": "ae4f4edc",
   "metadata": {},
   "outputs": [],
   "source": [
    "b_gnd = Ground()\n",
    "p_gnd = GroundCoordinate()"
   ]
  },
  {
   "cell_type": "code",
   "execution_count": 10,
   "id": "fd9bf66f",
   "metadata": {},
   "outputs": [],
   "source": [
    "# Define the location of the body to the ground, in the body's body frame.\n",
    "p_rot = BodyCoordinate(\"G1/O\", 0, 0, 0)"
   ]
  },
  {
   "cell_type": "markdown",
   "id": "2d355c1d",
   "metadata": {},
   "source": [
    "## Degrees of Freedom\n",
    "\n",
    "Define the coordinates that can move. We can also specify if a coordinate is fixed at a constant value. If the DOF is NOT specified, it is assumed to be fixed, with zero value.\n",
    "\n",
    "In this case, let's fix the cart at height of 5m.\n",
    "\n",
    "Note, index 0 represent the x-axis, 1 the y-, 2 the z-, 3 rotations about x-, 4 rotations about y- and 5 rotations about z-."
   ]
  },
  {
   "cell_type": "code",
   "execution_count": 12,
   "id": "098dd05e",
   "metadata": {},
   "outputs": [],
   "source": [
    "rot_dofs = [DOF(5)]"
   ]
  },
  {
   "cell_type": "markdown",
   "id": "e42ad9f1",
   "metadata": {},
   "source": [
    "## Joint\n",
    "\n",
    "This is the object that connects the two bodies. Eaach coordinate is in its respective body frame."
   ]
  },
  {
   "cell_type": "code",
   "execution_count": 13,
   "id": "0896d943",
   "metadata": {},
   "outputs": [],
   "source": [
    "j1 = Joint(p_gnd, p_rot, rot_dofs, name=p_gnd.name)"
   ]
  },
  {
   "cell_type": "markdown",
   "id": "7bfbd089",
   "metadata": {},
   "source": [
    "## Connection"
   ]
  },
  {
   "cell_type": "code",
   "execution_count": 14,
   "id": "9a38cf54",
   "metadata": {},
   "outputs": [],
   "source": [
    "cnx_rot = Connection(b_gnd, j1, b_rot)"
   ]
  },
  {
   "cell_type": "markdown",
   "id": "200889e8",
   "metadata": {},
   "source": [
    "## MultiBody"
   ]
  },
  {
   "cell_type": "code",
   "execution_count": 15,
   "id": "461a28ef",
   "metadata": {},
   "outputs": [],
   "source": [
    "oned_rot = MultiBody([cnx_rot,])"
   ]
  },
  {
   "cell_type": "markdown",
   "id": "513e9bac",
   "metadata": {},
   "source": [
    "## Coordinates"
   ]
  },
  {
   "cell_type": "code",
   "execution_count": 16,
   "id": "6533741e",
   "metadata": {
    "scrolled": true
   },
   "outputs": [
    {
     "data": {
      "text/latex": [
       "$\\displaystyle \\left[\\begin{matrix}\\theta^{1}_{z}{\\left(t \\right)}\\end{matrix}\\right]$"
      ],
      "text/plain": [
       "Matrix([[theta^1_z(t)]])"
      ]
     },
     "execution_count": 16,
     "metadata": {},
     "output_type": "execute_result"
    }
   ],
   "source": [
    "oned_rot.coordinates"
   ]
  },
  {
   "cell_type": "markdown",
   "id": "7f92c60a",
   "metadata": {},
   "source": [
    "## Energy"
   ]
  },
  {
   "cell_type": "code",
   "execution_count": 17,
   "id": "081aed4c",
   "metadata": {},
   "outputs": [
    {
     "data": {
      "text/latex": [
       "$\\displaystyle 0.5 I^{1}_{zz} \\left(\\frac{d}{d t} \\theta^{1}_{z}{\\left(t \\right)}\\right)^{2}$"
      ],
      "text/plain": [
       "0.5*I^1_zz*Derivative(theta^1_z(t), t)**2"
      ]
     },
     "execution_count": 17,
     "metadata": {},
     "output_type": "execute_result"
    }
   ],
   "source": [
    "oned_rot.kinetic_energy"
   ]
  },
  {
   "cell_type": "code",
   "execution_count": 18,
   "id": "e27c03b5",
   "metadata": {},
   "outputs": [
    {
     "data": {
      "text/latex": [
       "$\\displaystyle 0$"
      ],
      "text/plain": [
       "0"
      ]
     },
     "execution_count": 18,
     "metadata": {},
     "output_type": "execute_result"
    }
   ],
   "source": [
    "oned_rot.potential_energy"
   ]
  },
  {
   "cell_type": "markdown",
   "id": "d11eca28",
   "metadata": {},
   "source": [
    "## Kinetic Energy Metric"
   ]
  },
  {
   "cell_type": "code",
   "execution_count": 19,
   "id": "dd887ac9",
   "metadata": {},
   "outputs": [
    {
     "data": {
      "text/latex": [
       "$\\displaystyle \\left[\\begin{matrix}1.0 I^{1}_{zz}\\end{matrix}\\right]$"
      ],
      "text/plain": [
       "Matrix([[1.0*I^1_zz]])"
      ]
     },
     "execution_count": 19,
     "metadata": {},
     "output_type": "execute_result"
    }
   ],
   "source": [
    "oned_rot.G"
   ]
  },
  {
   "cell_type": "markdown",
   "id": "b7262ee8",
   "metadata": {},
   "source": [
    "## Equations of Motion\n",
    "\n",
    "This returns the left and right hand sides of the equations of motion. The LHS will be linear in accelerations. The RHS is a function of the coordindates and inputs."
   ]
  },
  {
   "cell_type": "code",
   "execution_count": 20,
   "id": "d505d210",
   "metadata": {},
   "outputs": [
    {
     "data": {
      "text/latex": [
       "$\\displaystyle \\left[\\begin{matrix}1.0 I^{1}_{zz} \\frac{d^{2}}{d t^{2}} \\theta^{1}_{z}{\\left(t \\right)}\\end{matrix}\\right]$"
      ],
      "text/plain": [
       "Matrix([[1.0*I^1_zz*Derivative(theta^1_z(t), (t, 2))]])"
      ]
     },
     "execution_count": 20,
     "metadata": {},
     "output_type": "execute_result"
    }
   ],
   "source": [
    "lhs, rhs = oned_rot.eoms()\n",
    "lhs"
   ]
  },
  {
   "cell_type": "code",
   "execution_count": 21,
   "id": "e8570635",
   "metadata": {},
   "outputs": [
    {
     "data": {
      "text/latex": [
       "$\\displaystyle \\left[\\begin{matrix}\\tau^{1}_{z}\\end{matrix}\\right]$"
      ],
      "text/plain": [
       "Matrix([[tau^1_z]])"
      ]
     },
     "execution_count": 21,
     "metadata": {},
     "output_type": "execute_result"
    }
   ],
   "source": [
    "rhs"
   ]
  },
  {
   "cell_type": "markdown",
   "id": "ec99f014",
   "metadata": {},
   "source": [
    "## Equilibria\n",
    "\n",
    "Get the equilibria, either forced or unforced, for the described system."
   ]
  },
  {
   "cell_type": "code",
   "execution_count": 22,
   "id": "bb01a0a8",
   "metadata": {
    "scrolled": true
   },
   "outputs": [
    {
     "data": {
      "text/plain": [
       "([], [])"
      ]
     },
     "execution_count": 22,
     "metadata": {},
     "output_type": "execute_result"
    }
   ],
   "source": [
    "oned_rot.get_equilibria()"
   ]
  },
  {
   "cell_type": "markdown",
   "id": "d624c121",
   "metadata": {},
   "source": [
    "## System Representation\n",
    "\n",
    "Generate the equations of the following form:\n",
    "\n",
    "- Nonlinear: $G \\dot{x} = f(x, u)$,\n",
    "- Linear: $G \\dot{x} = A x + B u$,\n",
    "\n",
    "where $G$ is the Kinetic Energy Metric. Note, x represents the positions and velocities, A is the state-transition matrix and B is the control input matrix."
   ]
  },
  {
   "cell_type": "code",
   "execution_count": 23,
   "id": "a93ac930",
   "metadata": {},
   "outputs": [
    {
     "data": {
      "text/latex": [
       "$\\displaystyle \\left[\\begin{matrix}\\frac{d}{d t} \\theta^{1}_{z}{\\left(t \\right)}\\\\\\tau^{1}_{z}\\end{matrix}\\right]$"
      ],
      "text/plain": [
       "Matrix([\n",
       "[Derivative(theta^1_z(t), t)],\n",
       "[                    tau^1_z]])"
      ]
     },
     "execution_count": 23,
     "metadata": {},
     "output_type": "execute_result"
    }
   ],
   "source": [
    "# Nonlinear\n",
    "A, B = oned_rot.system_matrices(linearized=False)\n",
    "A"
   ]
  },
  {
   "cell_type": "code",
   "execution_count": 25,
   "id": "f6352e3a",
   "metadata": {
    "scrolled": true
   },
   "outputs": [
    {
     "data": {
      "text/latex": [
       "$\\displaystyle \\left[\\begin{matrix}0 & 1\\\\0 & 0\\end{matrix}\\right]$"
      ],
      "text/plain": [
       "Matrix([\n",
       "[0, 1],\n",
       "[0, 0]])"
      ]
     },
     "execution_count": 25,
     "metadata": {},
     "output_type": "execute_result"
    }
   ],
   "source": [
    "# Linear\n",
    "A, B = oned_rot.system_matrices(linearized=True)\n",
    "A"
   ]
  },
  {
   "cell_type": "code",
   "execution_count": 26,
   "id": "8eebef48",
   "metadata": {},
   "outputs": [
    {
     "data": {
      "text/latex": [
       "$\\displaystyle \\left[\\begin{matrix}0\\\\1\\end{matrix}\\right]$"
      ],
      "text/plain": [
       "Matrix([\n",
       "[0],\n",
       "[1]])"
      ]
     },
     "execution_count": 26,
     "metadata": {},
     "output_type": "execute_result"
    }
   ],
   "source": [
    "B"
   ]
  },
  {
   "cell_type": "markdown",
   "id": "3e34513e",
   "metadata": {},
   "source": [
    "## Configuraton of bodies"
   ]
  },
  {
   "cell_type": "code",
   "execution_count": 27,
   "id": "7056145a",
   "metadata": {},
   "outputs": [
    {
     "name": "stdout",
     "output_type": "stream",
     "text": [
      "{'0': {'coords': {x^0_G(t): 0.0,\n",
      "                  y^0_G(t): 0.0,\n",
      "                  z^0_G(t): 0.0,\n",
      "                  theta^0_x(t): 0.0,\n",
      "                  theta^0_y(t): 0.0,\n",
      "                  theta^0_z(t): 0.0},\n",
      "       'dims': {l^0_x: 0, l^0_y: 0, l^0_z: 0}},\n",
      " '1': {'coords': {x^1_G(t): 0.0,\n",
      "                  y^1_G(t): 0.0,\n",
      "                  z^1_G(t): 0.0,\n",
      "                  theta^1_x(t): 0.0,\n",
      "                  theta^1_y(t): 0.0,\n",
      "                  theta^1_z(t): 1.0},\n",
      "       'dims': {l^1_x: 2, l^1_y: 2, l^1_z: 1}}}\n"
     ]
    }
   ],
   "source": [
    "pprint.pp(oned_rot.get_configuration())"
   ]
  }
 ],
 "metadata": {
  "kernelspec": {
   "display_name": "Python 3",
   "language": "python",
   "name": "python3"
  },
  "language_info": {
   "codemirror_mode": {
    "name": "ipython",
    "version": 3
   },
   "file_extension": ".py",
   "mimetype": "text/x-python",
   "name": "python",
   "nbconvert_exporter": "python",
   "pygments_lexer": "ipython3",
   "version": "3.9.5"
  }
 },
 "nbformat": 4,
 "nbformat_minor": 5
}
